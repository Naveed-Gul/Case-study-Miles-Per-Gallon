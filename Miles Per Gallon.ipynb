{
 "cells": [
  {
   "cell_type": "markdown",
   "metadata": {},
   "source": [
    "# Case Study : Miles Per Gallon"
   ]
  },
  {
   "cell_type": "code",
   "execution_count": 1,
   "metadata": {},
   "outputs": [
    {
     "name": "stdout",
     "output_type": "stream",
     "text": [
      "The miles/gallon for this tank was 22.421875\n",
      "The miles/gallon for this tank was 19.417476\n",
      "The miles/gallon for this tank was 24.000000\n",
      "The overall average miles/gallon was 21.601423\n"
     ]
    }
   ],
   "source": [
    "def miles_per_gallon():\n",
    "    # Initialize total miles and total gallons\n",
    "    total_miles = 0.0\n",
    "    total_gallons = 0.0\n",
    "\n",
    "    # Loop to input data until sentinel value is entered\n",
    "    while True:\n",
    "        # Prompt user to input gallons used\n",
    "        gallons = float(input(\"Enter the gallons used (-1 to end): \"))\n",
    "        if gallons == -1:\n",
    "            break\n",
    "\n",
    "        # Prompt user to input miles driven\n",
    "        miles = float(input(\"Enter the miles driven: \"))\n",
    "\n",
    "        # Calculate miles per gallon for the current tank\n",
    "        mpg = miles / gallons\n",
    "        # Round the result to 6 decimal places\n",
    "        mpg = round(mpg, 6)\n",
    "\n",
    "        # Check if the gallon value has no decimal part, if so, print without decimal\n",
    "        gallons_display = f\"{gallons:.1f}\" if gallons % 1 != 0 else f\"{int(gallons)}\"\n",
    "\n",
    "        # Check if the miles value has no decimal part, if so, print without decimal\n",
    "        miles_display = f\"{miles:.1f}\" if miles % 1 != 0 else f\"{int(miles)}\"\n",
    "\n",
    "        # Print the input values and the calculated miles per gallon\n",
    "        # print(f\"Enter the gallons used (-1 to end): {gallons_display}\")\n",
    "        # print(f\"Enter the miles driven: {miles_display}\")\n",
    "        print(f\"The miles/gallon for this tank was {mpg:.6f}\")\n",
    "\n",
    "        # Update the total miles and total gallons\n",
    "        total_miles += miles\n",
    "        total_gallons += gallons\n",
    "\n",
    "    # Calculate and print the overall average miles per gallon if there are any gallons used\n",
    "    if total_gallons != 0:\n",
    "        overall_mpg = total_miles / total_gallons\n",
    "        overall_mpg = round(overall_mpg, 6)\n",
    "        print(f\"The overall average miles/gallon was {overall_mpg:.6f}\")\n",
    "    else:\n",
    "        print(\"No data to calculate overall miles/gallon.\")\n",
    "\n",
    "if __name__ == \"__main__\":\n",
    "    miles_per_gallon()"
   ]
  }
 ],
 "metadata": {
  "kernelspec": {
   "display_name": "Python 3",
   "language": "python",
   "name": "python3"
  },
  "language_info": {
   "codemirror_mode": {
    "name": "ipython",
    "version": 3
   },
   "file_extension": ".py",
   "mimetype": "text/x-python",
   "name": "python",
   "nbconvert_exporter": "python",
   "pygments_lexer": "ipython3",
   "version": "3.12.3"
  }
 },
 "nbformat": 4,
 "nbformat_minor": 2
}
